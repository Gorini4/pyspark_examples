{
 "cells": [
  {
   "cell_type": "markdown",
   "metadata": {},
   "source": [
    "# Подготовка"
   ]
  },
  {
   "cell_type": "code",
   "execution_count": 1,
   "metadata": {},
   "outputs": [],
   "source": [
    "import pyspark\n",
    "from pyspark.sql.functions import *\n",
    "from pyspark.sql import SparkSession\n",
    "\n",
    "# Spark session & context\n",
    "spark = SparkSession.builder.master(\"local\") \\\n",
    "    .config('spark.sql.autoBroadcastJoinThreshold', 0) \\\n",
    "    .getOrCreate()"
   ]
  },
  {
   "cell_type": "markdown",
   "metadata": {},
   "source": [
    "Датасеты можно скачать из репозитория \n",
    "\n",
    "https://github.com/databricks/LearningSparkV2/tree/master/databricks-datasets/learning-spark-v2/flights\n",
    "\n",
    "https://github.com/databricks/LearningSparkV2/tree/master/databricks-datasets/learning-spark-v2/sf-fire"
   ]
  },
  {
   "cell_type": "code",
   "execution_count": 2,
   "metadata": {},
   "outputs": [],
   "source": [
    "airport_codes = spark.read \\\n",
    "    .option(\"header\", \"true\").option(\"delimiter\", \"\\t\").option(\"inferSchema\", \"true\") \\\n",
    "    .csv(\"../datasets/airport-codes-na.txt\") \\\n",
    "    .persist(pyspark.StorageLevel.DISK_ONLY)\n",
    "airport_delays = spark.read.option(\"header\", \"true\").option(\"inferSchema\", \"true\") \\\n",
    "    .csv(\"../datasets/departuredelays.csv\") \\\n",
    "    .persist(pyspark.StorageLevel.DISK_ONLY)\n",
    "\n",
    "fire_calls = spark.read.option(\"header\", \"true\").option(\"inferSchema\", \"true\") \\\n",
    "    .csv(\"../datasets/sf-fire-calls.csv\") \\\n",
    "    .persist(pyspark.StorageLevel.DISK_ONLY)\n",
    "fire_incidents = spark.read.option(\"header\", \"true\").option(\"inferSchema\", \"true\") \\\n",
    "    .csv(\"../datasets/sf-fire-incidents.csv\") \\\n",
    "    .persist(pyspark.StorageLevel.DISK_ONLY)"
   ]
  },
  {
   "cell_type": "markdown",
   "metadata": {},
   "source": [
    "# Пример работы оптимизатора"
   ]
  },
  {
   "cell_type": "code",
   "execution_count": 5,
   "metadata": {},
   "outputs": [
    {
     "name": "stdout",
     "output_type": "stream",
     "text": [
      "== Parsed Logical Plan ==\n",
      "'Filter ('State = LA)\n",
      "+- Join Inner, (IATA#20 = origin#65)\n",
      "   :- Relation [date#62,delay#63,distance#64,origin#65,destination#66] csv\n",
      "   +- Relation [City#17,State#18,Country#19,IATA#20] csv\n",
      "\n",
      "== Analyzed Logical Plan ==\n",
      "date: int, delay: int, distance: int, origin: string, destination: string, City: string, State: string, Country: string, IATA: string\n",
      "Filter (State#18 = LA)\n",
      "+- Join Inner, (IATA#20 = origin#65)\n",
      "   :- Relation [date#62,delay#63,distance#64,origin#65,destination#66] csv\n",
      "   +- Relation [City#17,State#18,Country#19,IATA#20] csv\n",
      "\n",
      "== Optimized Logical Plan ==\n",
      "Join Inner, (IATA#20 = origin#65)\n",
      ":- Filter isnotnull(origin#65)\n",
      ":  +- InMemoryRelation [date#62, delay#63, distance#64, origin#65, destination#66], StorageLevel(disk, 1 replicas)\n",
      ":        +- FileScan csv [date#62,delay#63,distance#64,origin#65,destination#66] Batched: false, DataFilters: [], Format: CSV, Location: InMemoryFileIndex(1 paths)[file:/home/jovyan/datasets/departuredelays.csv], PartitionFilters: [], PushedFilters: [], ReadSchema: struct<date:int,delay:int,distance:int,origin:string,destination:string>\n",
      "+- Filter ((isnotnull(State#18) AND (State#18 = LA)) AND isnotnull(IATA#20))\n",
      "   +- InMemoryRelation [City#17, State#18, Country#19, IATA#20], StorageLevel(disk, 1 replicas)\n",
      "         +- FileScan csv [City#17,State#18,Country#19,IATA#20] Batched: false, DataFilters: [], Format: CSV, Location: InMemoryFileIndex(1 paths)[file:/home/jovyan/datasets/airport-codes-na.txt], PartitionFilters: [], PushedFilters: [], ReadSchema: struct<City:string,State:string,Country:string,IATA:string>\n",
      "\n",
      "== Physical Plan ==\n",
      "AdaptiveSparkPlan isFinalPlan=false\n",
      "+- SortMergeJoin [origin#65], [IATA#20], Inner\n",
      "   :- Sort [origin#65 ASC NULLS FIRST], false, 0\n",
      "   :  +- Exchange hashpartitioning(origin#65, 200), ENSURE_REQUIREMENTS, [plan_id=323]\n",
      "   :     +- Filter isnotnull(origin#65)\n",
      "   :        +- InMemoryTableScan [date#62, delay#63, distance#64, origin#65, destination#66], [isnotnull(origin#65)]\n",
      "   :              +- InMemoryRelation [date#62, delay#63, distance#64, origin#65, destination#66], StorageLevel(disk, 1 replicas)\n",
      "   :                    +- FileScan csv [date#62,delay#63,distance#64,origin#65,destination#66] Batched: false, DataFilters: [], Format: CSV, Location: InMemoryFileIndex(1 paths)[file:/home/jovyan/datasets/departuredelays.csv], PartitionFilters: [], PushedFilters: [], ReadSchema: struct<date:int,delay:int,distance:int,origin:string,destination:string>\n",
      "   +- Sort [IATA#20 ASC NULLS FIRST], false, 0\n",
      "      +- Exchange hashpartitioning(IATA#20, 200), ENSURE_REQUIREMENTS, [plan_id=324]\n",
      "         +- Filter ((isnotnull(State#18) AND (State#18 = LA)) AND isnotnull(IATA#20))\n",
      "            +- InMemoryTableScan [City#17, State#18, Country#19, IATA#20], [isnotnull(State#18), (State#18 = LA), isnotnull(IATA#20)]\n",
      "                  +- InMemoryRelation [City#17, State#18, Country#19, IATA#20], StorageLevel(disk, 1 replicas)\n",
      "                        +- FileScan csv [City#17,State#18,Country#19,IATA#20] Batched: false, DataFilters: [], Format: CSV, Location: InMemoryFileIndex(1 paths)[file:/home/jovyan/datasets/airport-codes-na.txt], PartitionFilters: [], PushedFilters: [], ReadSchema: struct<City:string,State:string,Country:string,IATA:string>\n",
      "\n"
     ]
    }
   ],
   "source": [
    "airport_delays \\\n",
    "    .join(airport_codes, airport_codes['IATA'] == airport_delays['origin']) \\\n",
    "    .filter(col('State') == 'LA') \\\n",
    "    .explain(True)"
   ]
  },
  {
   "cell_type": "markdown",
   "metadata": {},
   "source": [
    "# \"Солёный\" JOIN"
   ]
  },
  {
   "cell_type": "code",
   "execution_count": 4,
   "metadata": {},
   "outputs": [
    {
     "name": "stdout",
     "output_type": "stream",
     "text": [
      "+---------+-----------+\n",
      "|    fruit|items_count|\n",
      "+---------+-----------+\n",
      "|    Apple|         20|\n",
      "|    Apple|         20|\n",
      "|    Apple|         20|\n",
      "|    Apple|         20|\n",
      "|    Apple|         20|\n",
      "|    Apple|         20|\n",
      "|    Apple|         20|\n",
      "|    Apple|         20|\n",
      "|    Apple|         20|\n",
      "|    Apple|         20|\n",
      "|   Orange|         10|\n",
      "|Pineapple|         30|\n",
      "+---------+-----------+\n",
      "\n"
     ]
    }
   ],
   "source": [
    "fruit_stats_columns = [\"fruit\", \"items_count\"]\n",
    "fruit_stats_data = [(\"Apple\", \"20\")] * 10 + [(\"Orange\", \"10\"), (\"Pineapple\", \"30\")]\n",
    "\n",
    "fruit_stats_data_rdd = spark.sparkContext.parallelize(fruit_stats_data)\n",
    "\n",
    "fruit_stats_data_df = fruit_stats_data_rdd.toDF(fruit_stats_columns)\n",
    "\n",
    "fruit_stats_data_df.show()"
   ]
  },
  {
   "cell_type": "code",
   "execution_count": 5,
   "metadata": {},
   "outputs": [
    {
     "name": "stdout",
     "output_type": "stream",
     "text": [
      "+---------+------+\n",
      "|    fruit| color|\n",
      "+---------+------+\n",
      "|    Apple|   red|\n",
      "|   Orange|orange|\n",
      "|Pineapple|yellow|\n",
      "+---------+------+\n",
      "\n"
     ]
    }
   ],
   "source": [
    "fruit_color_columns = [\"fruit\", \"color\"]\n",
    "fruit_color_data = [(\"Apple\", \"red\"), (\"Orange\", \"orange\"), (\"Pineapple\", \"yellow\")]\n",
    "\n",
    "fruit_color_data_rdd = spark.sparkContext.parallelize(fruit_color_data)\n",
    "\n",
    "fruit_color_data_df = fruit_color_data_rdd.toDF(fruit_color_columns)\n",
    "\n",
    "fruit_color_data_df.show()"
   ]
  },
  {
   "cell_type": "code",
   "execution_count": 6,
   "metadata": {},
   "outputs": [
    {
     "name": "stdout",
     "output_type": "stream",
     "text": [
      "+---------+--------------+\n",
      "|partition|partition_size|\n",
      "+---------+--------------+\n",
      "|Pineapple|             1|\n",
      "|   Orange|             1|\n",
      "|    Apple|            10|\n",
      "+---------+--------------+\n",
      "\n"
     ]
    }
   ],
   "source": [
    "fruit_stats_data_df.groupBy(col('fruit').alias('partition')).agg(count(col('fruit')).alias('partition_size')).show()"
   ]
  },
  {
   "cell_type": "code",
   "execution_count": 7,
   "metadata": {},
   "outputs": [
    {
     "name": "stdout",
     "output_type": "stream",
     "text": [
      "+---------+-----------+----+\n",
      "|    fruit|items_count|salt|\n",
      "+---------+-----------+----+\n",
      "|    Apple|         20|   1|\n",
      "|    Apple|         20|   0|\n",
      "|    Apple|         20|   2|\n",
      "|    Apple|         20|   2|\n",
      "|    Apple|         20|   1|\n",
      "|    Apple|         20|   0|\n",
      "|    Apple|         20|   1|\n",
      "|    Apple|         20|   2|\n",
      "|    Apple|         20|   0|\n",
      "|    Apple|         20|   1|\n",
      "|   Orange|         10|   1|\n",
      "|Pineapple|         30|   0|\n",
      "+---------+-----------+----+\n",
      "\n"
     ]
    }
   ],
   "source": [
    "salted_df = fruit_stats_data_df.withColumn('salt', (rand() * 3).cast('int'))\n",
    "salted_df.show()"
   ]
  },
  {
   "cell_type": "code",
   "execution_count": 8,
   "metadata": {},
   "outputs": [
    {
     "name": "stdout",
     "output_type": "stream",
     "text": [
      "+----------+--------------+\n",
      "| partition|partition_size|\n",
      "+----------+--------------+\n",
      "|    Apple1|             4|\n",
      "|   Orange1|             1|\n",
      "|    Apple2|             3|\n",
      "|    Apple0|             3|\n",
      "|Pineapple0|             1|\n",
      "+----------+--------------+\n",
      "\n"
     ]
    }
   ],
   "source": [
    "salted_df.groupBy((concat(col('fruit'), col('salt'))).alias('partition')) \\\n",
    "                            .agg(count(col('fruit')).alias('partition_size')).show()"
   ]
  },
  {
   "cell_type": "code",
   "execution_count": 9,
   "metadata": {},
   "outputs": [
    {
     "name": "stdout",
     "output_type": "stream",
     "text": [
      "+---------+------+----+\n",
      "|    fruit| color|salt|\n",
      "+---------+------+----+\n",
      "|    Apple|   red|   0|\n",
      "|    Apple|   red|   1|\n",
      "|    Apple|   red|   2|\n",
      "|   Orange|orange|   0|\n",
      "|   Orange|orange|   1|\n",
      "|   Orange|orange|   2|\n",
      "|Pineapple|yellow|   0|\n",
      "|Pineapple|yellow|   1|\n",
      "|Pineapple|yellow|   2|\n",
      "+---------+------+----+\n",
      "\n"
     ]
    }
   ],
   "source": [
    "enriched_df = fruit_color_data_df \\\n",
    "    .select(col('fruit'), col('color'), explode(array([lit(i) for i in [0, 1, 2]])).alias('salt'))\n",
    "enriched_df.show()"
   ]
  },
  {
   "cell_type": "code",
   "execution_count": 10,
   "metadata": {},
   "outputs": [
    {
     "name": "stdout",
     "output_type": "stream",
     "text": [
      "+---------+-----------+------+\n",
      "|    fruit|items_count| color|\n",
      "+---------+-----------+------+\n",
      "|    Apple|         20|   red|\n",
      "|    Apple|         20|   red|\n",
      "|    Apple|         20|   red|\n",
      "|    Apple|         20|   red|\n",
      "|    Apple|         20|   red|\n",
      "|    Apple|         20|   red|\n",
      "|    Apple|         20|   red|\n",
      "|    Apple|         20|   red|\n",
      "|    Apple|         20|   red|\n",
      "|    Apple|         20|   red|\n",
      "|   Orange|         10|orange|\n",
      "|Pineapple|         30|yellow|\n",
      "+---------+-----------+------+\n",
      "\n"
     ]
    }
   ],
   "source": [
    "joined_df = salted_df.join(enriched_df, ['fruit', 'salt'])\n",
    "joined_df.drop('salt').show()"
   ]
  },
  {
   "cell_type": "code",
   "execution_count": 11,
   "metadata": {},
   "outputs": [
    {
     "name": "stdout",
     "output_type": "stream",
     "text": [
      "+---------+-----------+------+\n",
      "|    fruit|items_count| color|\n",
      "+---------+-----------+------+\n",
      "|    Apple|         20|   red|\n",
      "|    Apple|         20|   red|\n",
      "|    Apple|         20|   red|\n",
      "|    Apple|         20|   red|\n",
      "|    Apple|         20|   red|\n",
      "|    Apple|         20|   red|\n",
      "|    Apple|         20|   red|\n",
      "|    Apple|         20|   red|\n",
      "|    Apple|         20|   red|\n",
      "|    Apple|         20|   red|\n",
      "|   Orange|         10|orange|\n",
      "|Pineapple|         30|yellow|\n",
      "+---------+-----------+------+\n",
      "\n"
     ]
    }
   ],
   "source": [
    "fruit_stats_data_df.join(fruit_color_data_df, 'fruit').show()"
   ]
  },
  {
   "cell_type": "markdown",
   "metadata": {},
   "source": [
    "# Пример использования broadcast"
   ]
  },
  {
   "cell_type": "code",
   "execution_count": 12,
   "metadata": {},
   "outputs": [
    {
     "name": "stdout",
     "output_type": "stream",
     "text": [
      "+-------+-----+--------+------+-----------+----------+-----+-------+----+\n",
      "|   date|delay|distance|origin|destination|      City|State|Country|IATA|\n",
      "+-------+-----+--------+------+-----------+----------+-----+-------+----+\n",
      "|1011030|   63|     247|   AEX|        DFW|Alexandria|   LA|    USA| AEX|\n",
      "|1011838|  -14|     165|   AEX|        IAH|Alexandria|   LA|    USA| AEX|\n",
      "|1011204|   -8|     165|   AEX|        IAH|Alexandria|   LA|    USA| AEX|\n",
      "|1011710|   18|     435|   AEX|        ATL|Alexandria|   LA|    USA| AEX|\n",
      "|1011115|   -3|     435|   AEX|        ATL|Alexandria|   LA|    USA| AEX|\n",
      "|1021030|   -5|     247|   AEX|        DFW|Alexandria|   LA|    USA| AEX|\n",
      "|1020537|   -7|     165|   AEX|        IAH|Alexandria|   LA|    USA| AEX|\n",
      "|1021851|   -3|     165|   AEX|        IAH|Alexandria|   LA|    USA| AEX|\n",
      "|1021204|   21|     165|   AEX|        IAH|Alexandria|   LA|    USA| AEX|\n",
      "|1020600|   -6|     435|   AEX|        ATL|Alexandria|   LA|    USA| AEX|\n",
      "|1021710|  115|     435|   AEX|        ATL|Alexandria|   LA|    USA| AEX|\n",
      "|1021116|    9|     435|   AEX|        ATL|Alexandria|   LA|    USA| AEX|\n",
      "|1021408|   52|     435|   AEX|        ATL|Alexandria|   LA|    USA| AEX|\n",
      "|1031030|   56|     247|   AEX|        DFW|Alexandria|   LA|    USA| AEX|\n",
      "|1030537|    0|     165|   AEX|        IAH|Alexandria|   LA|    USA| AEX|\n",
      "|1031838|    0|     165|   AEX|        IAH|Alexandria|   LA|    USA| AEX|\n",
      "|1031204|  -14|     165|   AEX|        IAH|Alexandria|   LA|    USA| AEX|\n",
      "|1030600|    0|     435|   AEX|        ATL|Alexandria|   LA|    USA| AEX|\n",
      "|1031710|   -5|     435|   AEX|        ATL|Alexandria|   LA|    USA| AEX|\n",
      "|1031116|    7|     435|   AEX|        ATL|Alexandria|   LA|    USA| AEX|\n",
      "+-------+-----+--------+------+-----------+----------+-----+-------+----+\n",
      "only showing top 20 rows\n",
      "\n"
     ]
    }
   ],
   "source": [
    "airport_delays \\\n",
    "    .join(airport_codes, airport_codes['IATA'] == airport_delays['origin']) \\\n",
    "    .filter(col('State') == 'LA') \\\n",
    "    .show()"
   ]
  },
  {
   "cell_type": "code",
   "execution_count": 16,
   "metadata": {},
   "outputs": [
    {
     "name": "stdout",
     "output_type": "stream",
     "text": [
      "+-------+-----+--------+------+-----------+----------+-----+-------+----+\n",
      "|   date|delay|distance|origin|destination|      City|State|Country|IATA|\n",
      "+-------+-----+--------+------+-----------+----------+-----+-------+----+\n",
      "|1011030|   63|     247|   AEX|        DFW|Alexandria|   LA|    USA| AEX|\n",
      "|1011838|  -14|     165|   AEX|        IAH|Alexandria|   LA|    USA| AEX|\n",
      "|1011204|   -8|     165|   AEX|        IAH|Alexandria|   LA|    USA| AEX|\n",
      "|1011710|   18|     435|   AEX|        ATL|Alexandria|   LA|    USA| AEX|\n",
      "|1011115|   -3|     435|   AEX|        ATL|Alexandria|   LA|    USA| AEX|\n",
      "|1021030|   -5|     247|   AEX|        DFW|Alexandria|   LA|    USA| AEX|\n",
      "|1020537|   -7|     165|   AEX|        IAH|Alexandria|   LA|    USA| AEX|\n",
      "|1021851|   -3|     165|   AEX|        IAH|Alexandria|   LA|    USA| AEX|\n",
      "|1021204|   21|     165|   AEX|        IAH|Alexandria|   LA|    USA| AEX|\n",
      "|1020600|   -6|     435|   AEX|        ATL|Alexandria|   LA|    USA| AEX|\n",
      "|1021710|  115|     435|   AEX|        ATL|Alexandria|   LA|    USA| AEX|\n",
      "|1021116|    9|     435|   AEX|        ATL|Alexandria|   LA|    USA| AEX|\n",
      "|1021408|   52|     435|   AEX|        ATL|Alexandria|   LA|    USA| AEX|\n",
      "|1031030|   56|     247|   AEX|        DFW|Alexandria|   LA|    USA| AEX|\n",
      "|1030537|    0|     165|   AEX|        IAH|Alexandria|   LA|    USA| AEX|\n",
      "|1031838|    0|     165|   AEX|        IAH|Alexandria|   LA|    USA| AEX|\n",
      "|1031204|  -14|     165|   AEX|        IAH|Alexandria|   LA|    USA| AEX|\n",
      "|1030600|    0|     435|   AEX|        ATL|Alexandria|   LA|    USA| AEX|\n",
      "|1031710|   -5|     435|   AEX|        ATL|Alexandria|   LA|    USA| AEX|\n",
      "|1031116|    7|     435|   AEX|        ATL|Alexandria|   LA|    USA| AEX|\n",
      "+-------+-----+--------+------+-----------+----------+-----+-------+----+\n",
      "only showing top 20 rows\n",
      "\n"
     ]
    }
   ],
   "source": [
    "# С броадкастом\n",
    "\n",
    "try: bc_airport_codes.unpersist()\n",
    "except Exception: pass\n",
    "\n",
    "bc_airport_codes = broadcast(airport_codes)\n",
    "\n",
    "airport_delays \\\n",
    "    .join(bc_airport_codes, airport_codes['IATA'] == airport_delays['origin']) \\\n",
    "    .filter(col('State') == 'LA') \\\n",
    "    .show()"
   ]
  },
  {
   "cell_type": "markdown",
   "metadata": {},
   "source": [
    "# Пример использования фильтра Блума"
   ]
  },
  {
   "cell_type": "code",
   "execution_count": 17,
   "metadata": {},
   "outputs": [
    {
     "data": {
      "text/plain": [
       "31771"
      ]
     },
     "execution_count": 17,
     "metadata": {},
     "output_type": "execute_result"
    }
   ],
   "source": [
    "fire_incidents.select(col('Incident Number')).distinct().count()"
   ]
  },
  {
   "cell_type": "code",
   "execution_count": 18,
   "metadata": {},
   "outputs": [
    {
     "data": {
      "text/plain": [
       "168571"
      ]
     },
     "execution_count": 18,
     "metadata": {},
     "output_type": "execute_result"
    }
   ],
   "source": [
    "fire_calls.select(col('IncidentNumber')).distinct().count()"
   ]
  },
  {
   "cell_type": "code",
   "execution_count": 19,
   "metadata": {},
   "outputs": [
    {
     "data": {
      "text/plain": [
       "3247"
      ]
     },
     "execution_count": 19,
     "metadata": {},
     "output_type": "execute_result"
    }
   ],
   "source": [
    "fire_calls \\\n",
    "    .join(fire_incidents, fire_incidents['Incident Number'] == fire_calls['IncidentNumber']) \\\n",
    "    .select(col('IncidentNumber')).distinct().count()"
   ]
  },
  {
   "cell_type": "code",
   "execution_count": 20,
   "metadata": {},
   "outputs": [
    {
     "data": {
      "text/plain": [
       "3458"
      ]
     },
     "execution_count": 20,
     "metadata": {},
     "output_type": "execute_result"
    }
   ],
   "source": [
    "# Без фильтра\n",
    "\n",
    "fire_calls \\\n",
    "    .join(fire_incidents, fire_incidents['Incident Number'] == fire_calls['IncidentNumber']) \\\n",
    "    .count()"
   ]
  },
  {
   "cell_type": "code",
   "execution_count": 21,
   "metadata": {},
   "outputs": [
    {
     "name": "stdout",
     "output_type": "stream",
     "text": [
      "Collecting mmh3\n",
      "  Downloading mmh3-4.0.1-cp310-cp310-manylinux_2_5_x86_64.manylinux1_x86_64.manylinux_2_17_x86_64.manylinux2014_x86_64.whl (72 kB)\n",
      "\u001b[2K     \u001b[90m━━━━━━━━━━━━━━━━━━━━━━━━━━━━━━━━━━━━━━━━\u001b[0m \u001b[32m72.6/72.6 kB\u001b[0m \u001b[31m1.3 MB/s\u001b[0m eta \u001b[36m0:00:00\u001b[0ma \u001b[36m0:00:01\u001b[0m\n",
      "\u001b[?25hCollecting bitarray\n",
      "  Downloading bitarray-2.8.3-cp310-cp310-manylinux_2_17_x86_64.manylinux2014_x86_64.whl (287 kB)\n",
      "\u001b[2K     \u001b[90m━━━━━━━━━━━━━━━━━━━━━━━━━━━━━━━━━━━━━━━\u001b[0m \u001b[32m287.4/287.4 kB\u001b[0m \u001b[31m5.0 MB/s\u001b[0m eta \u001b[36m0:00:00\u001b[0ma \u001b[36m0:00:01\u001b[0m\n",
      "\u001b[?25hInstalling collected packages: mmh3, bitarray\n",
      "Successfully installed bitarray-2.8.3 mmh3-4.0.1\n"
     ]
    }
   ],
   "source": [
    "!pip install --no-cache-dir mmh3 bitarray"
   ]
  },
  {
   "cell_type": "code",
   "execution_count": 22,
   "metadata": {},
   "outputs": [],
   "source": [
    "import math\n",
    "import mmh3\n",
    "from bitarray import bitarray\n",
    "  \n",
    "  \n",
    "class BloomFilter(object):\n",
    "  \n",
    "    '''\n",
    "    Class for Bloom filter, using murmur3 hash function\n",
    "    '''\n",
    "  \n",
    "    def __init__(self, items_count, fp_prob):\n",
    "        '''\n",
    "        items_count : int\n",
    "            Number of items expected to be stored in bloom filter\n",
    "        fp_prob : float\n",
    "            False Positive probability in decimal\n",
    "        '''\n",
    "        self.items_count = items_count\n",
    "        \n",
    "        # False possible probability in decimal\n",
    "        self.fp_prob = fp_prob\n",
    "  \n",
    "        # Size of bit array to use\n",
    "        self.size = self.get_size(items_count, fp_prob)\n",
    "  \n",
    "        # number of hash functions to use\n",
    "        self.hash_count = self.get_hash_count(self.size, items_count)\n",
    "  \n",
    "        # Bit array of given size\n",
    "        self.bit_array = bitarray(self.size)\n",
    "  \n",
    "        # initialize all bits as 0\n",
    "        self.bit_array.setall(0)\n",
    "  \n",
    "    def add(self, item):\n",
    "        '''\n",
    "        Add an item in the filter\n",
    "        '''\n",
    "        digests = []\n",
    "        for i in range(self.hash_count):\n",
    "  \n",
    "            # create digest for given item.\n",
    "            # i work as seed to mmh3.hash() function\n",
    "            # With different seed, digest created is different\n",
    "            digest = mmh3.hash(item, i) % self.size\n",
    "            digests.append(digest)\n",
    "  \n",
    "            # set the bit True in bit_array\n",
    "            self.bit_array[digest] = True\n",
    "        \n",
    "    def union(self, other):\n",
    "        \"\"\" Calculates the union of the two underlying bitarrays and returns\n",
    "        a new bloom filter object.\"\"\"\n",
    "        new_bloom = self.copy()\n",
    "        new_bloom.bit_array = new_bloom.bit_array | other.bit_array\n",
    "        return new_bloom\n",
    "  \n",
    "    def check(self, item):\n",
    "        '''\n",
    "        Check for existence of an item in filter\n",
    "        '''\n",
    "        for i in range(self.hash_count):\n",
    "            digest = mmh3.hash(item, i) % self.size\n",
    "            if self.bit_array[digest] == False:\n",
    "  \n",
    "                # if any of bit is False then,its not present\n",
    "                # in filter\n",
    "                # else there is probability that it exist\n",
    "                return False\n",
    "        return True\n",
    "    \n",
    "    def copy(self):\n",
    "        \"\"\"Return a copy of this bloom filter.\n",
    "        \"\"\"\n",
    "        new_filter = BloomFilter(self.items_count, self.fp_prob)\n",
    "        new_filter.bit_array = self.bit_array.copy()\n",
    "        return new_filter\n",
    "    \n",
    "    def set_bit_array(self, bit_array):\n",
    "        self.bit_array = bit_array\n",
    "  \n",
    "    @classmethod\n",
    "    def get_size(self, n, p):\n",
    "        '''\n",
    "        Return the size of bit array(m) to used using\n",
    "        following formula\n",
    "        m = -(n * lg(p)) / (lg(2)^2)\n",
    "        n : int\n",
    "            number of items expected to be stored in filter\n",
    "        p : float\n",
    "            False Positive probability in decimal\n",
    "        '''\n",
    "        m = -(n * math.log(p))/(math.log(2)**2)\n",
    "        return int(m)\n",
    "  \n",
    "    @classmethod\n",
    "    def get_hash_count(self, m, n):\n",
    "        '''\n",
    "        Return the hash function(k) to be used using\n",
    "        following formula\n",
    "        k = (m/n) * lg(2)\n",
    "  \n",
    "        m : int\n",
    "            size of bit array\n",
    "        n : int\n",
    "            number of items expected to be stored in filter\n",
    "        '''\n",
    "        k = (m/n) * math.log(2)\n",
    "        return int(k)"
   ]
  },
  {
   "cell_type": "code",
   "execution_count": 24,
   "metadata": {},
   "outputs": [
    {
     "name": "stdout",
     "output_type": "stream",
     "text": [
      "'comely' is probably present!\n",
      "'bonuses' is probably present!\n",
      "'cohesive' is probably present!\n",
      "'war' is definitely not present!\n",
      "'genial' is probably present!\n",
      "'bloom' is probably present!\n",
      "'nuke' is definitely not present!\n",
      "'gems' is probably present!\n",
      "'blossom' is probably present!\n",
      "'colorful' is probably present!\n",
      "'hate' is definitely not present!\n",
      "'abounds' is probably present!\n",
      "'generous' is probably present!\n",
      "'bluff' is definitely not present!\n",
      "'generously' is probably present!\n",
      "'cheater' is definitely not present!\n",
      "'abundance' is probably present!\n",
      "'coherent' is probably present!\n",
      "'generosity' is probably present!\n",
      "'bonus' is probably present!\n",
      "'racism' is definitely not present!\n",
      "'humanity' is a false positive!\n",
      "'accessible' is probably present!\n",
      "'comfort' is probably present!\n",
      "'hurt' is definitely not present!\n",
      "'bolster' is probably present!\n",
      "'twitter' is a false positive!\n",
      "'gloomy' is definitely not present!\n",
      "'abound' is probably present!\n",
      "'facebook' is definitely not present!\n",
      "'abundant' is probably present!\n",
      "'bonny' is probably present!\n",
      "'geeksforgeeks' is definitely not present!\n"
     ]
    }
   ],
   "source": [
    "from random import shuffle\n",
    "  \n",
    "n = 20 #no of items to add\n",
    "p = 0.05 #false positive probability\n",
    "  \n",
    "bloomf1 = BloomFilter(n,p)\n",
    "bloomf2 = BloomFilter(n,p)\n",
    "  \n",
    "# words to be added\n",
    "word_present1 = ['abound','abounds','abundance','abundant','accessible',\n",
    "                'bloom','blossom','bolster','bonny','bonus','bonuses']\n",
    "  \n",
    "# words to be added\n",
    "word_present2 = ['coherent','cohesive','colorful','comely','comfort',\n",
    "                'gems','generosity','generous','generously','genial']\n",
    "  \n",
    "# word not added\n",
    "word_absent = ['bluff','cheater','hate','war','humanity',\n",
    "               'racism','hurt','nuke','gloomy','facebook',\n",
    "               'geeksforgeeks','twitter']\n",
    "  \n",
    "for item in word_present1:\n",
    "    bloomf1.add(item)\n",
    "  \n",
    "for item in word_present2:\n",
    "    bloomf2.add(item)\n",
    "    \n",
    "bloomf = bloomf1.union(bloomf2)\n",
    "  \n",
    "shuffle(word_present1)\n",
    "shuffle(word_present2)\n",
    "shuffle(word_absent)\n",
    "  \n",
    "test_words = word_present1 + word_present2 + word_absent\n",
    "shuffle(test_words)\n",
    "for word in test_words:\n",
    "    if bloomf.check(word):\n",
    "        if word in word_absent:\n",
    "            print(\"'{}' is a false positive!\".format(word))\n",
    "        else:\n",
    "            print(\"'{}' is probably present!\".format(word))\n",
    "    else:\n",
    "        print(\"'{}' is definitely not present!\".format(word))"
   ]
  },
  {
   "cell_type": "code",
   "execution_count": 25,
   "metadata": {},
   "outputs": [],
   "source": [
    "# Создаем фильтр\n",
    "\n",
    "filterSize = 31771\n",
    "prob = 0.05\n",
    "\n",
    "def fill_bloom_filter(bf, items):\n",
    "    for i in items:\n",
    "        bf.add(str(i[0]))\n",
    "    return bf\n",
    "\n",
    "bloom_filter = BloomFilter(filterSize, prob)\n",
    "\n",
    "general_bit_array = fire_incidents.select(col('Incident Number')).rdd \\\n",
    "    .mapPartitions(lambda p: [fill_bloom_filter(BloomFilter(filterSize, prob), p).bit_array]) \\\n",
    "    .reduce(lambda a, b: a.bit_array | b.bit_array)\n",
    "\n",
    "bloom_filter.set_bit_array(general_bit_array)\n",
    "\n",
    "maybe_in_bf = udf(lambda incident_number: bloom_filter.check(str(incident_number)))"
   ]
  },
  {
   "cell_type": "code",
   "execution_count": 26,
   "metadata": {},
   "outputs": [
    {
     "data": {
      "text/plain": [
       "3458"
      ]
     },
     "execution_count": 26,
     "metadata": {},
     "output_type": "execute_result"
    }
   ],
   "source": [
    "# Используем фильтр\n",
    "\n",
    "fire_calls \\\n",
    "    .filter(maybe_in_bf(col('IncidentNumber')) == True) \\\n",
    "    .join(fire_incidents, fire_incidents['Incident Number'] == fire_calls['IncidentNumber']) \\\n",
    "    .count()"
   ]
  },
  {
   "cell_type": "markdown",
   "metadata": {},
   "source": [
    "# Использование Bucketing"
   ]
  },
  {
   "cell_type": "code",
   "execution_count": 27,
   "metadata": {},
   "outputs": [
    {
     "data": {
      "text/plain": [
       "3458"
      ]
     },
     "execution_count": 27,
     "metadata": {},
     "output_type": "execute_result"
    }
   ],
   "source": [
    "# Без бакетинга\n",
    "\n",
    "fire_calls \\\n",
    "    .join(fire_incidents, fire_incidents['Incident Number'] == fire_calls['IncidentNumber']) \\\n",
    "    .count()"
   ]
  },
  {
   "cell_type": "code",
   "execution_count": 29,
   "metadata": {},
   "outputs": [],
   "source": [
    "fire_calls.write \\\n",
    "    .bucketBy(16, 'IncidentNumber') \\\n",
    "    .saveAsTable('fire_calls_bucketed', format='csv', mode='overwrite')\n",
    "    \n",
    "fire_incidents.write \\\n",
    "    .bucketBy(16, 'Incident Number') \\\n",
    "    .saveAsTable('fire_incidents_bucketed', format='csv', mode='overwrite')"
   ]
  },
  {
   "cell_type": "code",
   "execution_count": 30,
   "metadata": {},
   "outputs": [
    {
     "data": {
      "text/plain": [
       "3458"
      ]
     },
     "execution_count": 30,
     "metadata": {},
     "output_type": "execute_result"
    }
   ],
   "source": [
    "# С бакетингом\n",
    "\n",
    "fire_calls_bucketed = spark.table('fire_calls_bucketed')\n",
    "fire_incidents_bucketed = spark.table('fire_incidents_bucketed')\n",
    "\n",
    "fire_calls_bucketed \\\n",
    "    .join(fire_incidents_bucketed, fire_incidents_bucketed['Incident Number'] == fire_calls_bucketed['IncidentNumber']) \\\n",
    "    .count()"
   ]
  },
  {
   "cell_type": "code",
   "execution_count": null,
   "metadata": {},
   "outputs": [],
   "source": []
  },
  {
   "cell_type": "code",
   "execution_count": null,
   "metadata": {},
   "outputs": [],
   "source": []
  },
  {
   "cell_type": "code",
   "execution_count": null,
   "metadata": {},
   "outputs": [],
   "source": []
  },
  {
   "cell_type": "code",
   "execution_count": 31,
   "metadata": {},
   "outputs": [
    {
     "data": {
      "text/plain": [
       "'1'"
      ]
     },
     "execution_count": 31,
     "metadata": {},
     "output_type": "execute_result"
    }
   ],
   "source": [
    "str(1)"
   ]
  },
  {
   "cell_type": "code",
   "execution_count": 32,
   "metadata": {},
   "outputs": [
    {
     "name": "stdout",
     "output_type": "stream",
     "text": [
      "False\n"
     ]
    }
   ],
   "source": [
    "print(bc_airport_codes == None)"
   ]
  },
  {
   "cell_type": "code",
   "execution_count": 33,
   "metadata": {},
   "outputs": [
    {
     "data": {
      "text/plain": [
       "DataFrame[City: string, State: string, Country: string, IATA: string]"
      ]
     },
     "execution_count": 33,
     "metadata": {},
     "output_type": "execute_result"
    }
   ],
   "source": [
    "bc_airport_codes.unpersist()"
   ]
  },
  {
   "cell_type": "code",
   "execution_count": 34,
   "metadata": {},
   "outputs": [
    {
     "name": "stdout",
     "output_type": "stream",
     "text": [
      "+-------+\n",
      "|  State|\n",
      "+-------+\n",
      "| Hawaii|\n",
      "|     SC|\n",
      "|     AZ|\n",
      "|     NS|\n",
      "|     LA|\n",
      "|     MN|\n",
      "|     NJ|\n",
      "|    PEI|\n",
      "|     OR|\n",
      "|     VA|\n",
      "|   null|\n",
      "|     RI|\n",
      "|     WY|\n",
      "|     KY|\n",
      "|     BC|\n",
      "|     NH|\n",
      "|     MI|\n",
      "|     NV|\n",
      "|    NWT|\n",
      "|Nunavut|\n",
      "+-------+\n",
      "only showing top 20 rows\n",
      "\n"
     ]
    }
   ],
   "source": [
    "airport_codes.select(col('State')).distinct().show()"
   ]
  },
  {
   "cell_type": "code",
   "execution_count": 35,
   "metadata": {},
   "outputs": [
    {
     "name": "stdout",
     "output_type": "stream",
     "text": [
      "+-------+-----+--------+------+-----------+\n",
      "|   date|delay|distance|origin|destination|\n",
      "+-------+-----+--------+------+-----------+\n",
      "|1011245|    6|     602|   ABE|        ATL|\n",
      "|1020600|   -8|     369|   ABE|        DTW|\n",
      "|1021245|   -2|     602|   ABE|        ATL|\n",
      "|1020605|   -4|     602|   ABE|        ATL|\n",
      "|1031245|   -4|     602|   ABE|        ATL|\n",
      "|1030605|    0|     602|   ABE|        ATL|\n",
      "|1041243|   10|     602|   ABE|        ATL|\n",
      "|1040605|   28|     602|   ABE|        ATL|\n",
      "|1051245|   88|     602|   ABE|        ATL|\n",
      "|1050605|    9|     602|   ABE|        ATL|\n",
      "|1061215|   -6|     602|   ABE|        ATL|\n",
      "|1061725|   69|     602|   ABE|        ATL|\n",
      "|1061230|    0|     369|   ABE|        DTW|\n",
      "|1060625|   -3|     602|   ABE|        ATL|\n",
      "|1070600|    0|     369|   ABE|        DTW|\n",
      "|1071725|    0|     602|   ABE|        ATL|\n",
      "|1071230|    0|     369|   ABE|        DTW|\n",
      "|1070625|    0|     602|   ABE|        ATL|\n",
      "|1071219|    0|     569|   ABE|        ORD|\n",
      "|1080600|    0|     369|   ABE|        DTW|\n",
      "+-------+-----+--------+------+-----------+\n",
      "only showing top 20 rows\n",
      "\n"
     ]
    }
   ],
   "source": [
    "airport_delays.show()"
   ]
  },
  {
   "cell_type": "code",
   "execution_count": null,
   "metadata": {},
   "outputs": [],
   "source": []
  },
  {
   "cell_type": "code",
   "execution_count": 36,
   "metadata": {},
   "outputs": [
    {
     "name": "stdout",
     "output_type": "stream",
     "text": [
      "+---------------+\n",
      "|Incident Number|\n",
      "+---------------+\n",
      "|       16000003|\n",
      "|       16000004|\n",
      "|       16000023|\n",
      "|       16000034|\n",
      "|       16000051|\n",
      "|       16000053|\n",
      "|       16000064|\n",
      "|       16000071|\n",
      "|       16000072|\n",
      "|       16000099|\n",
      "|       16000143|\n",
      "|       16000145|\n",
      "|       16000155|\n",
      "|       16000161|\n",
      "|       16000167|\n",
      "|       16000166|\n",
      "|       16000171|\n",
      "|       16000176|\n",
      "|       16000179|\n",
      "|       16000183|\n",
      "+---------------+\n",
      "only showing top 20 rows\n",
      "\n"
     ]
    }
   ],
   "source": [
    "fire_incidents.select(col('Incident Number')).show()"
   ]
  },
  {
   "cell_type": "code",
   "execution_count": 37,
   "metadata": {},
   "outputs": [
    {
     "name": "stdout",
     "output_type": "stream",
     "text": [
      "+--------------+\n",
      "|IncidentNumber|\n",
      "+--------------+\n",
      "|       2003235|\n",
      "|       2003241|\n",
      "|       2003242|\n",
      "|       2003250|\n",
      "|       2003259|\n",
      "|       2003279|\n",
      "|       2003301|\n",
      "|       2003304|\n",
      "|       2003343|\n",
      "|       2003348|\n",
      "|       2003381|\n",
      "|       2003382|\n",
      "|       2003399|\n",
      "|       2003403|\n",
      "|       2003408|\n",
      "|       2003408|\n",
      "|       2003408|\n",
      "|       2003409|\n",
      "|       2003417|\n",
      "|       2003417|\n",
      "+--------------+\n",
      "only showing top 20 rows\n",
      "\n"
     ]
    }
   ],
   "source": [
    "fire_calls.select(col('IncidentNumber')).show()"
   ]
  },
  {
   "cell_type": "code",
   "execution_count": 38,
   "metadata": {},
   "outputs": [
    {
     "name": "stdout",
     "output_type": "stream",
     "text": [
      "+---------------+---------------+--------------------+-------------+-----------+--------------------+--------------------+--------------------+-------------+-------+---------+------------+----+-----------------+---------------------+---------+-------------+-----------+---------------+-------------------+-----------------------+-----------------------+---------------+-------------+-------------------+-----------------+----------------+--------------------+----------+--------------------+----------------------+------------------+--------------------------+--------------------+--------------------+---------------+-----------------------+-------------------------+--------------------+--------------------+--------------------------------------+-------------------+----------------+--------------------+-----------+--------------+------------------------------------+----------------------------------------+----------------------------------+------------------------------------+-----------------+--------------------+--------------------+----------------------+-----------------------+--------------------------------------+----------------------------------+----------------------------------------+--------------------------------------------+-----------------------------------+-------------------+----------------------+--------------------+----------+------+--------------+-----------------+----------+----------+--------------------+--------------------+--------------------+-------------+-------+---------+-----------+----+----------------+--------+-------------+-------+--------------------+---------+--------+--------------------------+----------------------+------------------+--------------------+--------------------+-------------+----------+\n",
      "|Incident Number|Exposure Number|             Address|Incident Date|Call Number|          Alarm DtTm|        Arrival DtTm|          Close DtTm|         City|Zipcode|Battalion|Station Area| Box|Suppression Units|Suppression Personnel|EMS Units|EMS Personnel|Other Units|Other Personnel|First Unit On Scene|Estimated Property Loss|Estimated Contents Loss|Fire Fatalities|Fire Injuries|Civilian Fatalities|Civilian Injuries|Number of Alarms|   Primary Situation|Mutual Aid|Action Taken Primary|Action Taken Secondary|Action Taken Other|Detector Alerted Occupants|        Property Use| Area of Fire Origin| Ignition Cause|Ignition Factor Primary|Ignition Factor Secondary|         Heat Source|  Item First Ignited|Human Factors Associated with Ignition|     Structure Type|Structure Status|Floor of Fire Origin|Fire Spread|No Flame Spead|Number of floors with minimum damage|Number of floors with significant damage|Number of floors with heavy damage|Number of floors with extreme damage|Detectors Present|       Detector Type|  Detector Operation|Detector Effectiveness|Detector Failure Reason|Automatic Extinguishing System Present|Automatic Extinguishing Sytem Type|Automatic Extinguishing Sytem Perfomance|Automatic Extinguishing Sytem Failure Reason|Number of Sprinkler Heads Operating|Supervisor District|Neighborhood  District|            Location|CallNumber|UnitID|IncidentNumber|         CallType|  CallDate| WatchDate|CallFinalDisposition|       AvailableDtTm|             Address|         City|Zipcode|Battalion|StationArea| Box|OriginalPriority|Priority|FinalPriority|ALSUnit|       CallTypeGroup|NumAlarms|UnitType|UnitSequenceInCallDispatch|FirePreventionDistrict|SupervisorDistrict|        Neighborhood|            Location|        RowID|     Delay|\n",
      "+---------------+---------------+--------------------+-------------+-----------+--------------------+--------------------+--------------------+-------------+-------+---------+------------+----+-----------------+---------------------+---------+-------------+-----------+---------------+-------------------+-----------------------+-----------------------+---------------+-------------+-------------------+-----------------+----------------+--------------------+----------+--------------------+----------------------+------------------+--------------------------+--------------------+--------------------+---------------+-----------------------+-------------------------+--------------------+--------------------+--------------------------------------+-------------------+----------------+--------------------+-----------+--------------+------------------------------------+----------------------------------------+----------------------------------+------------------------------------+-----------------+--------------------+--------------------+----------------------+-----------------------+--------------------------------------+----------------------------------+----------------------------------------+--------------------------------------------+-----------------------------------+-------------------+----------------------+--------------------+----------+------+--------------+-----------------+----------+----------+--------------------+--------------------+--------------------+-------------+-------+---------+-----------+----+----------------+--------+-------------+-------+--------------------+---------+--------+--------------------------+----------------------+------------------+--------------------+--------------------+-------------+----------+\n",
      "|       16000143|              0|     532 28th Avenue|   01/01/2016|  160010712|01/01/2016 02:42:...|01/01/2016 02:44:...|01/01/2016 02:56:...|San Francisco|  94121|      B07|          14|7226|                9|                   32|        1|            2|          1|              2|               null|                   null|                     50|              0|            0|                  0|                0|            null|113 cooking fire,...|    n none|      86 investigate|                  null|              null|      1 detector alerte...|429 multifamily d...|                null|           null|                   null|                     null|                null|                null|                                  null|               null|            null|                null|       null|            na|                                null|                                    null|                              null|                                null|             null|                null|                null|                  null|                   null|                                  null|                              null|                                    null|                                        null|                               null|                  1|        Outer Richmond|(37.7792960000296...| 160010712|   E31|      16000143|   Structure Fire|01/01/2016|12/31/2015|                Fire|01/01/2016 02:54:...|500 Block of 28TH...|San Francisco|  94121|      B07|         14|7226|               3|       3|            3|  false|               Alarm|        1|  ENGINE|                         1|                     7|                 1|      Outer Richmond|(37.7789869256205...|160010712-E31| 2.2333333|\n",
      "|       16000145|              0|Divisadero St/bus...|   01/01/2016|  160010734|01/01/2016 02:49:...|01/01/2016 02:52:...|01/01/2016 04:15:...|San Francisco|  94115|      B04|          10|4156|                1|                    4|        1|            2|          0|              0|               null|                   null|                   null|              0|            0|                  0|                0|            null|322 motor vehicle...|    n none|33 provide advanc...|                  null|              null|                      null|962 residential s...|                null|           null|                   null|                     null|                null|                null|                                  null|               null|            null|                null|       null|            na|                                null|                                    null|                              null|                                null|             null|                null|                null|                  null|                   null|                                  null|                              null|                                    null|                                        null|                               null|                  2|       Pacific Heights|(37.7861780000297...| 160010734|    53|      16000145|Traffic Collision|01/01/2016|12/31/2015|    Code 2 Transport|01/01/2016 04:15:...|DIVISADERO ST/BUS...|San Francisco|  94115|      B04|         10|4156|               2|       2|            2|   true|Non Life-threatening|        1|   MEDIC|                         3|                     4|                 2|     Pacific Heights|(37.7861795834309...| 160010734-53|0.98333335|\n",
      "|       16000183|              0|    1661 Pine St 636|   01/01/2016|  160010987|01/01/2016 04:24:...|01/01/2016 04:41:...|01/01/2016 05:27:...|San Francisco|  94109|      B04|          38|3224|                0|                    0|        1|            2|          0|              0|               null|                   null|                   null|              0|            0|                  0|                0|            null|600 good intent c...|    n none|      86 investigate|                  null|              null|                      null|    uuu undetermined|                null|           null|                   null|                     null|                null|                null|                                  null|               null|            null|                null|       null|            na|                                null|                                    null|                              null|                                null|             null|                null|                null|                  null|                   null|                                  null|                              null|                                    null|                                        null|                               null|                  2|      Western Addition|(37.7892180000297...| 160010987|    60|      16000183| Medical Incident|01/01/2016|12/31/2015|    Code 2 Transport|01/01/2016 05:27:...|1600 Block of PIN...|San Francisco|  94109|      B04|         38|3224|               2|       2|            2|   true|Potentially Life-...|        1|   MEDIC|                         1|                     4|                 2|    Western Addition|(37.7892533657939...| 160010987-60| 12.083333|\n",
      "|       16000192|              0|     1825 4th Street|   01/01/2016|  160011040|01/01/2016 04:49:...|01/01/2016 04:57:...|01/01/2016 05:11:...|San Francisco|  94158|      B03|           4|2436|                3|                   10|        0|            0|          0|              0|               null|                   null|                   null|              0|            0|                  0|                0|            null|735 alarm system ...|    n none|      86 investigate|                  null|              null|                      null|331 hospital - me...|                null|           null|                   null|                     null|                null|                null|                                  null|               null|            null|                null|       null|            na|                                null|                                    null|                              null|                                null|             null|                null|                null|                  null|                   null|                                  null|                              null|                                    null|                                        null|                               null|                  6|          Potrero Hill|(37.7664340000296...| 160011040|   T04|      16000192|           Alarms|01/01/2016|12/31/2015|                Fire|01/01/2016 05:11:...|1800 Block of 4TH ST|San Francisco|  94158|      B03|         04|2436|               3|       3|            3|  false|               Alarm|        1|   TRUCK|                         2|                     3|                 6|        Potrero Hill|(37.7654965381521...|160011040-T04|       4.9|\n",
      "|       16000243|              0|25th St/valencia ...|   01/01/2016|  160011357|01/01/2016 08:25:...|01/01/2016 08:30:...|01/01/2016 08:30:...|San Francisco|  94110|      B06|          11|5535|                2|                    9|        0|            0|          0|              0|               null|                   null|                   null|              0|            0|                  0|                0|            null|711 municipal ala...|    n none|      86 investigate|                  null|              null|                      null|            nnn none|                null|           null|                   null|                     null|                null|                null|                                  null|               null|            null|                null|       null|            na|                                null|                                    null|                              null|                                null|             null|                null|                null|                  null|                   null|                                  null|                              null|                                    null|                                        null|                               null|                  8|               Mission|(37.7505050000296...| 160011357|   E11|      16000243|   Structure Fire|01/01/2016|01/01/2016|                Fire|01/01/2016 08:30:...| 25TH ST/VALENCIA ST|San Francisco|  94110|      B06|         11|5535|               3|       3|            3|   true|               Alarm|        1|  ENGINE|                         1|                     6|                 8|             Mission|(37.7505058278022...|160011357-E11|      2.65|\n",
      "|       16000267|              0|21st St/guerrero ...|   01/01/2016|  160011504|01/01/2016 09:35:...|01/01/2016 09:41:...|01/01/2016 09:46:...|San Francisco|  94110|      B06|           7|5456|                3|                   10|        0|            0|          0|              0|               null|                   null|                   null|              0|            0|                  0|                0|            null|150 outside rubbi...|    n none|10 fire control o...|                  null|              null|                      null|962 residential s...|                null|           null|                   null|                     null|                null|                null|                                  null|               null|            null|                null|       null|            na|                                null|                                    null|                              null|                                null|             null|                null|                null|                  null|                   null|                                  null|                              null|                                    null|                                        null|                               null|                  8|               Mission|(37.7567690000296...| 160011504|   B06|      16000267|     Outside Fire|01/01/2016|01/01/2016|                Fire|01/01/2016 09:46:...| 21ST ST/GUERRERO ST|San Francisco|  94110|      B06|         07|5456|               3|       3|            3|  false|                Fire|        1|   CHIEF|                         2|                     6|                 8|             Mission|(37.7567687819484...|160011504-B06| 2.7166667|\n",
      "|       16000273|              0|  530 Jackson Street|   01/01/2016|  160011531|01/01/2016 09:46:...|01/01/2016 09:51:...|01/01/2016 10:01:...|San Francisco|  94133|      B01|          13|1232|                3|                   11|        0|            0|          0|              0|               null|                   null|                   null|              0|            0|                  0|                0|            null|745 alarm system ...|    n none|      86 investigate|                  null|              null|                      null|161 restaurant or...|                null|           null|                   null|                     null|                null|                null|                                  null|               null|            null|                null|       null|            na|                                null|                                    null|                              null|                                null|             null|                null|                null|                  null|                   null|                                  null|                              null|                                    null|                                        null|                               null|                  3|             Chinatown|(37.7964260000297...| 160011531|   T13|      16000273|           Alarms|01/01/2016|01/01/2016|                Fire|01/01/2016 10:01:...|500 Block of JACK...|San Francisco|  94133|      B01|         13|1232|               3|       3|            3|  false|               Alarm|        1|   TRUCK|                         1|                     1|                 3|           Chinatown|(37.7964140386351...|160011531-T13|      3.85|\n",
      "|       16000369|              0|     1420 Noe Street|   01/01/2016|  160012362|01/01/2016 02:51:...|01/01/2016 02:53:...|01/01/2016 03:30:...|San Francisco|  94131|      B06|          11|5561|                9|                   32|        4|            6|          1|              2|               null|                   5000|                    500|              0|            0|                  0|                0|            null|   111 building fire|    n none|12 salvage & over...|                  null|              null|                      null|419 1 or 2 family...|90 outside area, ...|2 unintentional|        uu undetermined|                     null|63 heat from unde...|96 rubbish, trash...|                                n none|1 enclosed building| 2 in normal use|                   3|       null|            no|                                null|                                    null|                              null|                                null|        1 present|             1 smoke|1 fire too small ...|                  null|                   null|                        n none present|                              null|                                    null|                                        null|                               null|                  8|            Noe Valley|(37.7462790000296...| 160012362|   B06|      16000369|   Structure Fire|01/01/2016|01/01/2016|                Fire|01/01/2016 03:27:...|1400 Block of NOE ST|San Francisco|  94131|      B06|         11|5561|               3|       3|            3|  false|                Fire|        1|   CHIEF|                         2|                     6|                 8|          Noe Valley|(37.746224292878,...|160012362-B06|       1.4|\n",
      "|       16000462|              0|      455 Bay St 204|   01/01/2016|  160013219|01/01/2016 07:03:...|01/01/2016 07:07:...|01/01/2016 07:25:...|San Francisco|  94133|      B01|          28|1425|                8|                   29|        1|            2|          1|              2|               null|                   null|                   null|              0|            0|                  0|                0|            null|   111 building fire|    n none|11 extinguishment...|  12 salvage & over...|      51 ventilate|                      null|429 multifamily d...|21 bedroom - < 5 ...|2 unintentional|   19 playing with h...|                     null|12 radiated or co...|92 magazine, news...|                  7â§3 age was a fa...|1 enclosed building| 2 in normal use|                   3|       null|           yes|                                null|                                    null|                              null|                                null|        1 present|5 more than one t...|1 fire too small ...|                  null|                   null|                             1 present|              1 wet-pipe sprink...|                    3 Fire too small ...|                                        null|                               null|                  3|           North Beach|(37.8054400000297...| 160013219|   E13|      16000462|   Structure Fire|01/01/2016|01/01/2016|                Fire|01/01/2016 07:19:...| 400 Block of BAY ST|San Francisco|  94133|      B01|         28|1425|               3|       3|            3|   true|               Alarm|        1|  ENGINE|                         3|                     1|                 3|         North Beach|(37.8054635492679...|160013219-E13| 2.3166666|\n",
      "|       16000544|              0| 655 John Muir Drive|   01/01/2016|  160013922|01/01/2016 11:16:...|01/01/2016 11:25:...|01/01/2016 11:29:...|San Francisco|  94132|      B08|          19|8714|                1|                    4|        0|            0|          0|              0|               null|                   null|                   null|              0|            0|                  0|                0|            null|150 outside rubbi...|    n none|10 fire control o...|                  null|              null|                      null|   960 street, other|                null|           null|                   null|                     null|                null|                null|                                  null|               null|            null|                null|       null|            na|                                null|                                    null|                              null|                                null|             null|                null|                null|                  null|                   null|                                  null|                              null|                                    null|                                        null|                               null|                  7|             Lakeshore|(37.7143820000296...| 160013922|   E19|      16000544|     Outside Fire|01/01/2016|01/01/2016|                Fire|01/01/2016 11:29:...|600 Block of JOHN...|San Francisco|  94132|      B08|         19|8714|               3|       3|            3|   true|                Fire|        1|  ENGINE|                         1|                     8|                 7|           Lakeshore|(37.714334813698,...|160013922-E19|      4.15|\n",
      "|       16000557|              0|6th St/harrison S...|   01/02/2016|  160020015|01/02/2016 12:07:...|01/02/2016 12:10:...|01/02/2016 12:12:...|San Francisco|  94107|      B03|           8|2254|                2|                    9|        0|            0|          0|              0|               null|                   null|                   null|              0|            0|                  0|                0|            null|712 direct tie to...|    n none|      86 investigate|                  null|              null|                      null|962 residential s...|                null|           null|                   null|                     null|                null|                null|                                  null|               null|            null|                null|       null|            na|                                null|                                    null|                              null|                                null|             null|                null|                null|                  null|                   null|                                  null|                              null|                                    null|                                        null|                               null|                  6|       South of Market|(37.7772740000297...| 160020015|   T01|      16000557|   Structure Fire|01/02/2016|01/01/2016|                Fire|01/02/2016 12:10:...|  6TH ST/HARRISON ST|San Francisco|  94103|      B03|         08|2254|               3|       3|            3|  false|               Alarm|        1|   TRUCK|                         2|                     3|                 6|     South of Market|(37.7772727011897...|160020015-T01|      1.85|\n",
      "|       16000585|              0|   15 Lucerne Street|   01/02/2016|  160020239|01/02/2016 01:56:...|01/02/2016 02:01:...|01/02/2016 02:06:...|San Francisco|  94103|      B03|           8|2256|                3|                   10|        0|            0|          0|              0|               null|                   null|                   null|              0|            0|                  0|                0|            null|500 service call,...|    n none|60 systems and se...|                  null|              null|                      null|429 multifamily d...|                null|           null|                   null|                     null|                null|                null|                                  null|               null|            null|                null|       null|            na|                                null|                                    null|                              null|                                null|             null|                null|                null|                  null|                   null|                                  null|                              null|                                    null|                                        null|                               null|                  6|       South of Market|(37.7738960000297...| 160020239|   B03|      16000585|           Alarms|01/02/2016|01/01/2016|                Fire|01/02/2016 02:04:...|0 Block of LUCERN...|San Francisco|  94103|      B03|         08|2256|               3|       3|            3|  false|               Alarm|        1|   CHIEF|                         3|                     3|                 6|     South of Market|(37.7737036038141...|160020239-B03|  4.016667|\n",
      "|       16000771|              0|Minna St/russ Street|   01/02/2016|  160021975|01/02/2016 03:08:...|01/02/2016 03:09:...|01/02/2016 03:11:...|San Francisco|  94103|      B03|           1|2251|                1|                    4|        0|            0|          0|              0|               null|                    500|                     10|              0|            0|                  0|                0|            null|118 trash or rubb...|    n none|11 extinguishment...|                  null|              null|                 u unknown|900 outside or sp...|                null|           null|                   null|                     null|                null|                null|                                  null|               null|            null|                null|       null|            na|                                null|                                    null|                              null|                                null|             null|                null|                null|                  null|                   null|                                  null|                              null|                                    null|                                        null|                               null|                  6|       South of Market|(37.7796590000297...| 160021975|   E01|      16000771|     Outside Fire|01/02/2016|01/02/2016|                Fire|01/02/2016 03:11:...|    MINNA ST/RUSS ST|San Francisco|  94103|      B03|         01|2251|               3|       3|            3|   true|                Fire|        1|  ENGINE|                         1|                     3|                 6|     South of Market|(37.7796577522239...|160021975-E01|       1.7|\n",
      "|       16000772|              0|140 South Van Nes...|   01/02/2016|  160021989|01/02/2016 03:10:...|01/02/2016 03:15:...|01/02/2016 03:38:...|San Francisco|  94103|      B02|          36|5116|                3|                   11|        0|            0|          0|              0|               null|                   null|                   null|              0|            0|                  0|                0|            null|743 smoke detecto...|    n none|63 restore fire a...|        86 investigate|              null|                      null|429 multifamily d...|                null|           null|                   null|                     null|                null|                null|                                  null|               null|            null|                null|       null|            na|                                null|                                    null|                              null|                                null|             null|                null|                null|                  null|                   null|                                  null|                              null|                                    null|                                        null|                               null|                  6|               Mission|(37.7717630000296...| 160021989|   B02|      16000772|           Alarms|01/02/2016|01/02/2016|                Fire|01/02/2016 03:38:...|100 Block of SOUT...|San Francisco|  94103|      B02|         36|5116|               3|       3|            3|  false|               Alarm|        1|   CHIEF|                         2|                     2|                 6|             Mission|(37.7715376281605...|160021989-B02|      2.45|\n",
      "|       16000789|              0|              Avenue|   01/02/2016|  160022187|01/02/2016 04:09:...|01/02/2016 04:14:...|01/02/2016 04:24:...|San Francisco|  94122|      B08|          22|7452|                1|                    4|        0|            0|          0|              0|               null|                   null|                   null|              0|            0|                  0|                0|            null|150 outside rubbi...|    n none|11 extinguishment...|                  null|              null|                      null|931 open land or ...|                null|           null|                   null|                     null|                null|                null|                                  null|               null|            null|                null|       null|            na|                                null|                                    null|                              null|                                null|             null|                null|                null|                  null|                   null|                                  null|                              null|                                    null|                                        null|                               null|                  1|      Golden Gate Park|(37.7667700000297...| 160022187|   E22|      16000789|     Outside Fire|01/02/2016|01/02/2016|                Fire|01/02/2016 04:24:...|MARTIN LUTHER KIN...|San Francisco|  94122|      B08|         22|7452|               3|       3|            3|  false|                Fire|        1|  ENGINE|                         1|                     7|                 1|    Golden Gate Park|(37.76677018548, ...|160022187-E22| 1.8166667|\n",
      "|       16000800|              0|   737 Folsom Street|   01/02/2016|  160022308|01/02/2016 04:40:...|01/02/2016 04:44:...|01/02/2016 04:54:...|San Francisco|  94107|      B03|           1|2176|                3|                   10|        0|            0|          0|              0|               null|                      5|                      5|              0|            0|                  0|                0|            null|113 cooking fire,...|    n none|      86 investigate|                  null|              null|      1 detector alerte...|429 multifamily d...|                null|           null|                   null|                     null|                null|                null|                                  null|               null|            null|                null|       null|            na|                                null|                                    null|                              null|                                null|             null|                null|                null|                  null|                   null|                                  null|                              null|                                    null|                                        null|                               null|                  6|       South of Market|(37.7830830000297...| 160022308|   T01|      16000800|           Alarms|01/02/2016|01/02/2016|                Fire|01/02/2016 04:54:...|700 Block of FOLS...|San Francisco|  94107|      B03|         01|2176|               3|       3|            3|  false|               Alarm|        1|   TRUCK|                         3|                     3|                 6|     South of Market|(37.7831757914875...|160022308-T01| 2.5666666|\n",
      "|       16000849|              0|Ingalls St/revere...|   01/02/2016|  160022691|01/02/2016 06:18:...|01/02/2016 06:26:...|01/02/2016 06:29:...|San Francisco|  94124|      B10|          17|6634|                1|                    4|        0|            0|          0|              0|               null|                   null|                   null|              0|            0|                  0|                0|            null|700 false alarm o...|    n none|      86 investigate|                  null|              null|                      null|962 residential s...|                null|           null|                   null|                     null|                null|                null|                                  null|               null|            null|                null|       null|            na|                                null|                                    null|                              null|                                null|             null|                null|                null|                  null|                   null|                                  null|                              null|                                    null|                                        null|                               null|                 10|  Bayview Hunters P...|(37.7284870000296...| 160022691|   E42|      16000849|     Outside Fire|01/02/2016|01/02/2016|    Unable to Locate|01/02/2016 06:29:...|INGALLS ST/REVERE AV|San Francisco|  94124|      B10|         17|6634|               3|       3|            3|   true|                Fire|        1|  ENGINE|                         1|                    10|                10|Bayview Hunters P...|(37.7284858499402...|160022691-E42|       4.5|\n",
      "|       16000864|              0|Alemany Bl/cotter...|   01/02/2016|  160022824|01/02/2016 06:53:...|01/02/2016 06:57:...|01/02/2016 06:57:...|San Francisco|  94112|      B09|          15|8264|                2|                    9|        0|            0|          0|              0|               null|                   null|                   null|              0|            0|                  0|                0|            null|700 false alarm o...|    n none|      86 investigate|                  null|              null|                      null|962 residential s...|                null|           null|                   null|                     null|                null|                null|                                  null|               null|            null|                null|       null|            na|                                null|                                    null|                              null|                                null|             null|                null|                null|                  null|                   null|                                  null|                              null|                                    null|                                        null|                               null|                 11|         Outer Mission|(37.7281720000296...| 160022824|   E32|      16000864|   Structure Fire|01/02/2016|01/02/2016|                Fire|01/02/2016 06:57:...|ALEMANY BL/COTTER ST|San Francisco|  94112|      B09|         15|8264|               3|       3|            3|  false|               Alarm|        1|  ENGINE|                         1|                     9|                11|       Outer Mission|(37.7281712963773...|160022824-E32|0.71666664|\n",
      "|       16000866|              0|4th St/mission St...|   01/02/2016|  160022843|01/02/2016 06:58:...|01/02/2016 07:01:...|01/02/2016 07:10:...|San Francisco|  94103|      B03|           1|2213|                5|                   18|        1|            1|          0|              0|               null|                   null|                   null|              0|            0|                  0|                0|            null|320 emergency med...|    n none|30 emergency medi...|                  null|              null|                      null|   960 street, other|                null|           null|                   null|                     null|                null|                null|                                  null|               null|            null|                null|       null|            na|                                null|                                    null|                              null|                                null|             null|                null|                null|                  null|                   null|                                  null|                              null|                                    null|                                        null|                               null|                  6|       South of Market|(37.7844790000297...| 160022843|   E01|      16000866|Traffic Collision|01/02/2016|01/02/2016|            No Merit|01/02/2016 07:10:...|   4TH ST/MISSION ST|San Francisco|  94103|      B03|         01|2213|               3|       3|            3|   true|Potentially Life-...|        1|  ENGINE|                         3|                     3|                 6|     South of Market|(37.7844787439707...|160022843-E01| 2.9833333|\n",
      "|       16000868|              0|25th St/harrison ...|   01/02/2016|  160022856|01/02/2016 07:01:...|01/02/2016 07:06:...|01/02/2016 07:08:...|San Francisco|  94110|      B06|           7|5533|                1|                    4|        0|            0|          0|              0|               null|                   null|                   null|              0|            0|                  0|                0|            null|     100 fire, other|    n none|      86 investigate|                  null|              null|                      null|   960 street, other|     uu undetermined|  1 intentional|        uu undetermined|                     null|     uu undetermined|70 organic materi...|                                n none|               null|            null|                null|       null|            no|                                null|                                    null|                              null|                                null|             null|                null|                null|                  null|                   null|                                  null|                              null|                                    null|                                        null|                               null|                  9|               Mission|(37.7510350000296...| 160022856|   E07|      16000868|     Outside Fire|01/02/2016|01/02/2016|                Fire|01/02/2016 07:08:...| 25TH ST/HARRISON ST|San Francisco|  94110|      B06|         07|5533|               3|       3|            3|   true|                Fire|        1|  ENGINE|                         1|                     6|                 9|             Mission|(37.7510338955654...|160022856-E07| 1.0166667|\n",
      "+---------------+---------------+--------------------+-------------+-----------+--------------------+--------------------+--------------------+-------------+-------+---------+------------+----+-----------------+---------------------+---------+-------------+-----------+---------------+-------------------+-----------------------+-----------------------+---------------+-------------+-------------------+-----------------+----------------+--------------------+----------+--------------------+----------------------+------------------+--------------------------+--------------------+--------------------+---------------+-----------------------+-------------------------+--------------------+--------------------+--------------------------------------+-------------------+----------------+--------------------+-----------+--------------+------------------------------------+----------------------------------------+----------------------------------+------------------------------------+-----------------+--------------------+--------------------+----------------------+-----------------------+--------------------------------------+----------------------------------+----------------------------------------+--------------------------------------------+-----------------------------------+-------------------+----------------------+--------------------+----------+------+--------------+-----------------+----------+----------+--------------------+--------------------+--------------------+-------------+-------+---------+-----------+----+----------------+--------+-------------+-------+--------------------+---------+--------+--------------------------+----------------------+------------------+--------------------+--------------------+-------------+----------+\n",
      "only showing top 20 rows\n",
      "\n"
     ]
    }
   ],
   "source": [
    "fire_incidents \\\n",
    "    .join(fire_calls, fire_incidents['Incident Number'] == fire_calls['IncidentNumber']) \\\n",
    "    .show()"
   ]
  },
  {
   "cell_type": "code",
   "execution_count": 39,
   "metadata": {},
   "outputs": [
    {
     "name": "stdout",
     "output_type": "stream",
     "text": [
      "+-----------+-----+-------+----+\n",
      "|       City|State|Country|IATA|\n",
      "+-----------+-----+-------+----+\n",
      "| Abbotsford|   BC| Canada| YXX|\n",
      "|   Aberdeen|   SD|    USA| ABR|\n",
      "|    Abilene|   TX|    USA| ABI|\n",
      "|      Akron|   OH|    USA| CAK|\n",
      "|    Alamosa|   CO|    USA| ALS|\n",
      "|     Albany|   GA|    USA| ABY|\n",
      "|     Albany|   NY|    USA| ALB|\n",
      "|Albuquerque|   NM|    USA| ABQ|\n",
      "| Alexandria|   LA|    USA| AEX|\n",
      "|  Allentown|   PA|    USA| ABE|\n",
      "|   Alliance|   NE|    USA| AIA|\n",
      "|     Alpena|   MI|    USA| APN|\n",
      "|    Altoona|   PA|    USA| AOO|\n",
      "|   Amarillo|   TX|    USA| AMA|\n",
      "|Anahim Lake|   BC| Canada| YAA|\n",
      "|  Anchorage|   AK|    USA| ANC|\n",
      "|   Appleton|   WI|    USA| ATW|\n",
      "|     Arviat|  NWT| Canada| YEK|\n",
      "|  Asheville|   NC|    USA| AVL|\n",
      "|      Aspen|   CO|    USA| ASE|\n",
      "+-----------+-----+-------+----+\n",
      "only showing top 20 rows\n",
      "\n"
     ]
    }
   ],
   "source": [
    "airport_codes.show()"
   ]
  },
  {
   "cell_type": "code",
   "execution_count": null,
   "metadata": {},
   "outputs": [],
   "source": []
  }
 ],
 "metadata": {
  "kernelspec": {
   "display_name": "Python 3 (ipykernel)",
   "language": "python",
   "name": "python3"
  },
  "language_info": {
   "codemirror_mode": {
    "name": "ipython",
    "version": 3
   },
   "file_extension": ".py",
   "mimetype": "text/x-python",
   "name": "python",
   "nbconvert_exporter": "python",
   "pygments_lexer": "ipython3",
   "version": "3.10.11"
  }
 },
 "nbformat": 4,
 "nbformat_minor": 4
}
